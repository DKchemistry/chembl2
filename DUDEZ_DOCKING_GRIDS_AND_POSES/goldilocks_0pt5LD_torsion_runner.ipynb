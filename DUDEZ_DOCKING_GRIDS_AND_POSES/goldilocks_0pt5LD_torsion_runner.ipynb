{
 "cells": [
  {
   "cell_type": "code",
   "execution_count": 1,
   "metadata": {},
   "outputs": [
    {
     "name": "stdout",
     "output_type": "stream",
     "text": [
      "Processing protein 1 of 43: MK01\n"
     ]
    },
    {
     "data": {
      "application/vnd.jupyter.widget-view+json": {
       "model_id": "d46c47f605ba4ac29df85d4cde2d3179",
       "version_major": 2,
       "version_minor": 0
      },
      "text/plain": [
       "Executing:   0%|          | 0/132 [00:00<?, ?cell/s]"
      ]
     },
     "metadata": {},
     "output_type": "display_data"
    },
    {
     "name": "stderr",
     "output_type": "stream",
     "text": [
      "0.00s - Debugger warning: It seems that frozen modules are being used, which may\n",
      "0.00s - make the debugger miss breakpoints. Please pass -Xfrozen_modules=off\n",
      "0.00s - to python to disable frozen modules.\n",
      "0.00s - Note: Debugging will proceed. Set PYDEVD_DISABLE_FILE_VALIDATION=1 to disable this validation.\n"
     ]
    },
    {
     "name": "stdout",
     "output_type": "stream",
     "text": [
      "Completed analysis for MK01\n",
      "Processing protein 2 of 43: ADA\n"
     ]
    },
    {
     "data": {
      "application/vnd.jupyter.widget-view+json": {
       "model_id": "431a1d15196547e6aaa4cfc179d6a33c",
       "version_major": 2,
       "version_minor": 0
      },
      "text/plain": [
       "Executing:   0%|          | 0/132 [00:00<?, ?cell/s]"
      ]
     },
     "metadata": {},
     "output_type": "display_data"
    },
    {
     "name": "stderr",
     "output_type": "stream",
     "text": [
      "0.00s - Debugger warning: It seems that frozen modules are being used, which may\n",
      "0.00s - make the debugger miss breakpoints. Please pass -Xfrozen_modules=off\n",
      "0.00s - to python to disable frozen modules.\n",
      "0.00s - Note: Debugging will proceed. Set PYDEVD_DISABLE_FILE_VALIDATION=1 to disable this validation.\n"
     ]
    },
    {
     "name": "stdout",
     "output_type": "stream",
     "text": [
      "Completed analysis for ADA\n",
      "Processing protein 3 of 43: HMDH\n"
     ]
    },
    {
     "data": {
      "application/vnd.jupyter.widget-view+json": {
       "model_id": "fd514aa601114bef9a848c1a85e55a2e",
       "version_major": 2,
       "version_minor": 0
      },
      "text/plain": [
       "Executing:   0%|          | 0/132 [00:00<?, ?cell/s]"
      ]
     },
     "metadata": {},
     "output_type": "display_data"
    },
    {
     "name": "stderr",
     "output_type": "stream",
     "text": [
      "0.00s - Debugger warning: It seems that frozen modules are being used, which may\n",
      "0.00s - make the debugger miss breakpoints. Please pass -Xfrozen_modules=off\n",
      "0.00s - to python to disable frozen modules.\n",
      "0.00s - Note: Debugging will proceed. Set PYDEVD_DISABLE_FILE_VALIDATION=1 to disable this validation.\n"
     ]
    },
    {
     "name": "stdout",
     "output_type": "stream",
     "text": [
      "Completed analysis for HMDH\n",
      "Processing protein 4 of 43: THRB\n"
     ]
    },
    {
     "data": {
      "application/vnd.jupyter.widget-view+json": {
       "model_id": "52824cf7cd014635a089d4bdf8d99a30",
       "version_major": 2,
       "version_minor": 0
      },
      "text/plain": [
       "Executing:   0%|          | 0/132 [00:00<?, ?cell/s]"
      ]
     },
     "metadata": {},
     "output_type": "display_data"
    },
    {
     "name": "stderr",
     "output_type": "stream",
     "text": [
      "0.00s - Debugger warning: It seems that frozen modules are being used, which may\n",
      "0.00s - make the debugger miss breakpoints. Please pass -Xfrozen_modules=off\n",
      "0.00s - to python to disable frozen modules.\n",
      "0.00s - Note: Debugging will proceed. Set PYDEVD_DISABLE_FILE_VALIDATION=1 to disable this validation.\n"
     ]
    },
    {
     "name": "stdout",
     "output_type": "stream",
     "text": [
      "Completed analysis for THRB\n",
      "Processing protein 5 of 43: HDAC8\n"
     ]
    },
    {
     "data": {
      "application/vnd.jupyter.widget-view+json": {
       "model_id": "9c0e88db49bd490db1b67ce983e3b78f",
       "version_major": 2,
       "version_minor": 0
      },
      "text/plain": [
       "Executing:   0%|          | 0/132 [00:00<?, ?cell/s]"
      ]
     },
     "metadata": {},
     "output_type": "display_data"
    },
    {
     "name": "stderr",
     "output_type": "stream",
     "text": [
      "0.00s - Debugger warning: It seems that frozen modules are being used, which may\n",
      "0.00s - make the debugger miss breakpoints. Please pass -Xfrozen_modules=off\n",
      "0.00s - to python to disable frozen modules.\n",
      "0.00s - Note: Debugging will proceed. Set PYDEVD_DISABLE_FILE_VALIDATION=1 to disable this validation.\n"
     ]
    },
    {
     "name": "stdout",
     "output_type": "stream",
     "text": [
      "Completed analysis for HDAC8\n",
      "Processing protein 6 of 43: DEF\n"
     ]
    },
    {
     "data": {
      "application/vnd.jupyter.widget-view+json": {
       "model_id": "6329b13991034aa690e239e35d58aa5c",
       "version_major": 2,
       "version_minor": 0
      },
      "text/plain": [
       "Executing:   0%|          | 0/132 [00:00<?, ?cell/s]"
      ]
     },
     "metadata": {},
     "output_type": "display_data"
    },
    {
     "name": "stderr",
     "output_type": "stream",
     "text": [
      "0.00s - Debugger warning: It seems that frozen modules are being used, which may\n",
      "0.00s - make the debugger miss breakpoints. Please pass -Xfrozen_modules=off\n",
      "0.00s - to python to disable frozen modules.\n",
      "0.00s - Note: Debugging will proceed. Set PYDEVD_DISABLE_FILE_VALIDATION=1 to disable this validation.\n"
     ]
    },
    {
     "name": "stdout",
     "output_type": "stream",
     "text": [
      "Completed analysis for DEF\n",
      "Processing protein 7 of 43: UROK\n"
     ]
    },
    {
     "data": {
      "application/vnd.jupyter.widget-view+json": {
       "model_id": "b6910c01f8f34cf1bba0e3b61fada462",
       "version_major": 2,
       "version_minor": 0
      },
      "text/plain": [
       "Executing:   0%|          | 0/132 [00:00<?, ?cell/s]"
      ]
     },
     "metadata": {},
     "output_type": "display_data"
    },
    {
     "name": "stderr",
     "output_type": "stream",
     "text": [
      "0.00s - Debugger warning: It seems that frozen modules are being used, which may\n",
      "0.00s - make the debugger miss breakpoints. Please pass -Xfrozen_modules=off\n",
      "0.00s - to python to disable frozen modules.\n",
      "0.00s - Note: Debugging will proceed. Set PYDEVD_DISABLE_FILE_VALIDATION=1 to disable this validation.\n"
     ]
    }
   ],
   "source": [
    "import os\n",
    "import papermill as pm\n",
    "import glob\n",
    "import logging\n",
    "\n",
    "# Define the base directory\n",
    "base_dir = os.getcwd()\n",
    "\n",
    "# Create papermill and output directories\n",
    "papermill_dir = os.path.join(base_dir, \"papermill\")\n",
    "output_dir = os.path.join(papermill_dir, \"goldilocks_0pt5LD_torsion_notebooks\")\n",
    "os.makedirs(output_dir, exist_ok=True)\n",
    "\n",
    "# Set up logging\n",
    "log_file = os.path.join(papermill_dir, \"goldilocks_0pt5LD_torsion_runner.log\")\n",
    "logging.basicConfig(\n",
    "    filename=log_file,\n",
    "    level=logging.INFO,\n",
    "    format=\"%(asctime)s - %(levelname)s - %(message)s\",\n",
    ")\n",
    "\n",
    "# List of proteins to skip\n",
    "SKIP_PROTEINS = [\"AMPC\", \"DRD4\"]\n",
    "\n",
    "\n",
    "def find_files(protein_dir):\n",
    "    protein_name = os.path.basename(protein_dir)\n",
    "    # Use more flexible glob patterns\n",
    "    active_sdf = glob.glob(\n",
    "        os.path.join(\n",
    "            protein_dir, f\"{protein_name}_std_dudez_0pt5LD*ligand*poses_lib_sorted.sdf\"\n",
    "        )\n",
    "    )\n",
    "    decoy_sdf = glob.glob(\n",
    "        os.path.join(\n",
    "            protein_dir,\n",
    "            f\"{protein_name}_std_goldilocks_0pt5LD*decoy*poses_lib_sorted.sdf\",\n",
    "        )\n",
    "    )\n",
    "    active_strain = glob.glob(\n",
    "        os.path.join(\n",
    "            protein_dir,\n",
    "            f\"{protein_name}_std_dudez_0pt5LD*ligand*poses_lib_sorted_tstrain.csv\",\n",
    "        )\n",
    "    )\n",
    "    decoy_strain = glob.glob(\n",
    "        os.path.join(\n",
    "            protein_dir,\n",
    "            f\"{protein_name}_std_goldilocks_0pt5LD*decoy*poses_lib_sorted_tstrain.csv\",\n",
    "        )\n",
    "    )\n",
    "    # Check if we found exactly one file for each type\n",
    "    if (\n",
    "        len(active_sdf) != 1\n",
    "        or len(decoy_sdf) != 1\n",
    "        or len(active_strain) != 1\n",
    "        or len(decoy_strain) != 1\n",
    "    ):\n",
    "        raise ValueError(f\"Unexpected number of files found for {protein_name}\")\n",
    "    return active_sdf[0], decoy_sdf[0], active_strain[0], decoy_strain[0]\n",
    "\n",
    "\n",
    "def run_notebook(protein_dir):\n",
    "    protein_name = os.path.basename(protein_dir)\n",
    "    if protein_name in SKIP_PROTEINS:\n",
    "        logging.info(f\"Skipping {protein_name} as it requires special handling\")\n",
    "        print(f\"Skipping {protein_name} as it requires special handling\")\n",
    "        return\n",
    "    try:\n",
    "        active_sdf, decoy_sdf, active_strain, decoy_strain = find_files(protein_dir)\n",
    "        output_notebook = os.path.join(\n",
    "            output_dir, f\"{protein_name}_goldilocks_0pt5_output.ipynb\"\n",
    "        )\n",
    "        pm.execute_notebook(\n",
    "            \"input_for_dudez_analysis_papermill.ipynb\",\n",
    "            output_notebook,\n",
    "            parameters={\n",
    "                \"title_suffix\": f\"{protein_name}_goldilocks_0pt5\",\n",
    "                \"file_path_sdf_active\": active_sdf,\n",
    "                \"file_path_sdf_decoy\": decoy_sdf,\n",
    "                \"file_path_strain_active\": active_strain,\n",
    "                \"file_path_strain_decoy\": decoy_strain,\n",
    "            },\n",
    "        )\n",
    "        logging.info(f\"Completed analysis for {protein_name}\")\n",
    "        print(f\"Completed analysis for {protein_name}\")\n",
    "    except ValueError as ve:\n",
    "        logging.error(f\"Error finding files for {protein_name}: {str(ve)}\")\n",
    "        print(f\"Error finding files for {protein_name}: {str(ve)}\")\n",
    "    except Exception as e:\n",
    "        logging.error(f\"Error processing {protein_name}: {str(e)}\")\n",
    "        print(f\"Error processing {protein_name}: {str(e)}\")\n",
    "\n",
    "\n",
    "# Find all protein directories\n",
    "protein_dirs = [\n",
    "    d for d in glob.glob(os.path.join(base_dir, \"[A-Z0-9]*\")) if os.path.isdir(d)\n",
    "]\n",
    "\n",
    "# Run the notebook for each protein\n",
    "total_proteins = len(protein_dirs)\n",
    "for i, protein_dir in enumerate(protein_dirs, 1):\n",
    "    protein_name = os.path.basename(protein_dir)\n",
    "    print(f\"Processing protein {i} of {total_proteins}: {protein_name}\")\n",
    "    run_notebook(protein_dir)\n",
    "\n",
    "print(f\"All proteins processed. Output notebooks are in {output_dir}\")\n",
    "print(f\"Check the log file at {log_file} for details.\")\n",
    "print(f\"Note: AMPC and DRD4 were skipped and require special handling.\")"
   ]
  },
  {
   "cell_type": "code",
   "execution_count": null,
   "metadata": {},
   "outputs": [],
   "source": []
  }
 ],
 "metadata": {
  "kernelspec": {
   "display_name": "analytics_env",
   "language": "python",
   "name": "python3"
  },
  "language_info": {
   "codemirror_mode": {
    "name": "ipython",
    "version": 3
   },
   "file_extension": ".py",
   "mimetype": "text/x-python",
   "name": "python",
   "nbconvert_exporter": "python",
   "pygments_lexer": "ipython3",
   "version": "3.11.5"
  }
 },
 "nbformat": 4,
 "nbformat_minor": 2
}
